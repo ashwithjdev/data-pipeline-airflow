{
 "cells": [
  {
   "cell_type": "markdown",
   "id": "f4f0b94d-cc65-47d2-afc1-da8351d92ee7",
   "metadata": {},
   "source": [
    "### Access Kimball Model"
   ]
  },
  {
   "cell_type": "markdown",
   "id": "89f33471-3c55-4f85-b6ca-7d6b2e1ecced",
   "metadata": {},
   "source": [
    "First we need to import our packages"
   ]
  },
  {
   "cell_type": "code",
   "execution_count": 1,
   "id": "cdebf924-ac01-49ad-b110-a42ce368984c",
   "metadata": {},
   "outputs": [],
   "source": [
    "import polars as pl\n",
    "import deltalake"
   ]
  },
  {
   "cell_type": "markdown",
   "id": "38cde62b-0232-4394-8a9b-ccb9bf00ddab",
   "metadata": {},
   "source": [
    "Then we save our storage options, which allow us to connect to the MinIO S3 buckets where our data are saved"
   ]
  },
  {
   "cell_type": "code",
   "execution_count": 2,
   "id": "bb54148c-7beb-48ab-a5b0-0cb9b7798f73",
   "metadata": {},
   "outputs": [],
   "source": [
    "storage_options = {\n",
    "    \"AWS_ACCESS_KEY_ID\": \"minio\",\n",
    "    \"AWS_SECRET_ACCESS_KEY\": \"minio123\",\n",
    "    \"AWS_REGION\": \"us-east-1\",\n",
    "    \"AWS_ENDPOINT_URL\": \"http://10.5.0.5:9000\",\n",
    "    \"AWS_ALLOW_HTTP\": \"TRUE\",\n",
    "    \"AWS_S3_ALLOW_UNSAFE_RENAME\": \"TRUE\",\n",
    "}"
   ]
  },
  {
   "cell_type": "markdown",
   "id": "811c194f-3956-4a86-84a4-2be31720216a",
   "metadata": {},
   "source": [
    "This code block allows us to see our currency dimension"
   ]
  },
  {
   "cell_type": "code",
   "execution_count": 3,
   "id": "1b32283a-b247-43db-8b2a-8a3025c399ce",
   "metadata": {},
   "outputs": [
    {
     "name": "stdout",
     "output_type": "stream",
     "text": [
      "shape: (178, 3)\n",
      "┌───────────────────────────────────┬───────────────┬───────────────────────────────────┐\n",
      "│ dim_currency_id                   ┆ currency_code ┆ currency_name                     │\n",
      "│ ---                               ┆ ---           ┆ ---                               │\n",
      "│ str                               ┆ str           ┆ str                               │\n",
      "╞═══════════════════════════════════╪═══════════════╪═══════════════════════════════════╡\n",
      "│ cb3f8a65058da0b7c8524a4fb6c27f84… ┆ AED           ┆ UAE Dirham                        │\n",
      "│ ef9094d7c60f06a7598d329d7cd00e6d… ┆ AFN           ┆ Afghani                           │\n",
      "│ b5c7aed7cd2a308523e7d2847b781590… ┆ ALL           ┆ Lek                               │\n",
      "│ 0fd3e4e71b62f7775696d50033366d82… ┆ AMD           ┆ Armenian Dram                     │\n",
      "│ 428ac89ea662a034e7896f56358051dd… ┆ ANG           ┆ Netherlands Antillean Guilder     │\n",
      "│ …                                 ┆ …             ┆ …                                 │\n",
      "│ 9b38b8f5877f2395b4361c1f68c05907… ┆ XXX           ┆ The codes assigned for transacti… │\n",
      "│ 81caf3bd0cad98f2a36cdbefce9860f9… ┆ YER           ┆ Yemeni Rial                       │\n",
      "│ 91d1610afff50742a26438a8a00573e7… ┆ ZAR           ┆ Rand                              │\n",
      "│ 7e5afac119b0dc75c37c3e1ed0aef62e… ┆ ZMW           ┆ Zambian Kwacha                    │\n",
      "│ ebe4e5611b5461e9bed2b59d3b527629… ┆ ZWL           ┆ Zimbabwe Dollar                   │\n",
      "└───────────────────────────────────┴───────────────┴───────────────────────────────────┘\n"
     ]
    }
   ],
   "source": [
    "# Set the location of the dim_currency table\n",
    "dim_currency_uri = f\"s3://gold/dim_currency\"\n",
    "\n",
    "# Read the contents of the dim_currency table into a DataFrame, passing in the storage options so we can connect to MinIO\n",
    "dim_currency = pl.read_delta(\n",
    "        dim_currency_uri,\n",
    "        storage_options = storage_options\n",
    "     )\n",
    "\n",
    "# Print the DataFrame\n",
    "print(dim_currency)"
   ]
  },
  {
   "cell_type": "markdown",
   "id": "351ec387-4db8-4065-8f39-66617d8f8a92",
   "metadata": {},
   "source": [
    "Similarily, we can connect to the fact table containing our rates"
   ]
  },
  {
   "cell_type": "code",
   "execution_count": 4,
   "id": "eb7f727a-6ced-4381-a66a-ee437c230809",
   "metadata": {},
   "outputs": [
    {
     "name": "stdout",
     "output_type": "stream",
     "text": [
      "shape: (7_608, 5)\n",
      "┌────────────┬─────────────────────────────┬─────────────────────────────┬──────────────┬──────────┐\n",
      "│ date       ┆ dim_currency_id_from        ┆ dim_currency_id_to          ┆ opening_rate ┆ movement │\n",
      "│ ---        ┆ ---                         ┆ ---                         ┆ ---          ┆ ---      │\n",
      "│ str        ┆ str                         ┆ str                         ┆ f32          ┆ f32      │\n",
      "╞════════════╪═════════════════════════════╪═════════════════════════════╪══════════════╪══════════╡\n",
      "│ 2014-02-16 ┆ 5e75885111cddfc6af2fde23355 ┆ a26cdf3a6e709124385d4d7eb9b ┆ 0.90596      ┆ 0.0      │\n",
      "│            ┆ 681fa…                      ┆ ff6b8…                      ┆              ┆          │\n",
      "│ 2014-02-17 ┆ 5e75885111cddfc6af2fde23355 ┆ a26cdf3a6e709124385d4d7eb9b ┆ 0.9039       ┆ 0.00005  │\n",
      "│            ┆ 681fa…                      ┆ ff6b8…                      ┆              ┆          │\n",
      "│ 2014-02-18 ┆ 5e75885111cddfc6af2fde23355 ┆ a26cdf3a6e709124385d4d7eb9b ┆ 0.90163      ┆ 0.00041  │\n",
      "│            ┆ 681fa…                      ┆ ff6b8…                      ┆              ┆          │\n",
      "│ 2014-02-19 ┆ 5e75885111cddfc6af2fde23355 ┆ a26cdf3a6e709124385d4d7eb9b ┆ 0.89936      ┆ 0.00057  │\n",
      "│            ┆ 681fa…                      ┆ ff6b8…                      ┆              ┆          │\n",
      "│ 2014-02-20 ┆ 5e75885111cddfc6af2fde23355 ┆ a26cdf3a6e709124385d4d7eb9b ┆ 0.90112      ┆ -0.00014 │\n",
      "│            ┆ 681fa…                      ┆ ff6b8…                      ┆              ┆          │\n",
      "│ …          ┆ …                           ┆ …                           ┆ …            ┆ …        │\n",
      "│ 2024-02-12 ┆ 5e75885111cddfc6af2fde23355 ┆ b2c48022f83bafa76feb835a870 ┆ 0.87709      ┆ 0.0011   │\n",
      "│            ┆ 681fa…                      ┆ 49b42…                      ┆              ┆          │\n",
      "│ 2024-02-13 ┆ 5e75885111cddfc6af2fde23355 ┆ b2c48022f83bafa76feb835a870 ┆ 0.8783       ┆ -0.00318 │\n",
      "│            ┆ 681fa…                      ┆ 49b42…                      ┆              ┆          │\n",
      "│ 2024-02-14 ┆ 5e75885111cddfc6af2fde23355 ┆ b2c48022f83bafa76feb835a870 ┆ 0.87534      ┆ 0.00351  │\n",
      "│            ┆ 681fa…                      ┆ 49b42…                      ┆              ┆          │\n",
      "│ 2024-02-15 ┆ 5e75885111cddfc6af2fde23355 ┆ b2c48022f83bafa76feb835a870 ┆ 0.87821      ┆ 0.0001   │\n",
      "│            ┆ 681fa…                      ┆ 49b42…                      ┆              ┆          │\n",
      "│ 2024-02-16 ┆ 5e75885111cddfc6af2fde23355 ┆ b2c48022f83bafa76feb835a870 ┆ 0.87854      ┆ 0.00233  │\n",
      "│            ┆ 681fa…                      ┆ 49b42…                      ┆              ┆          │\n",
      "└────────────┴─────────────────────────────┴─────────────────────────────┴──────────────┴──────────┘\n"
     ]
    }
   ],
   "source": [
    "fct_rates_uri = f\"s3://gold/fct_rates\"\n",
    "\n",
    "fct_rates = pl.read_delta(\n",
    "        fct_rates_uri,\n",
    "        storage_options = storage_options\n",
    "     )\n",
    "\n",
    "print(fct_rates)"
   ]
  },
  {
   "cell_type": "code",
   "execution_count": null,
   "id": "35154999-ff94-4d92-b51a-ed68b24aa009",
   "metadata": {},
   "outputs": [],
   "source": []
  }
 ],
 "metadata": {
  "kernelspec": {
   "display_name": "Python 3 (ipykernel)",
   "language": "python",
   "name": "python3"
  },
  "language_info": {
   "codemirror_mode": {
    "name": "ipython",
    "version": 3
   },
   "file_extension": ".py",
   "mimetype": "text/x-python",
   "name": "python",
   "nbconvert_exporter": "python",
   "pygments_lexer": "ipython3",
   "version": "3.11.7"
  }
 },
 "nbformat": 4,
 "nbformat_minor": 5
}
