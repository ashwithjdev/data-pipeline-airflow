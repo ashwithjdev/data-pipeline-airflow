{
 "cells": [
  {
   "cell_type": "markdown",
   "id": "f4f0b94d-cc65-47d2-afc1-da8351d92ee7",
   "metadata": {},
   "source": [
    "### Access Kimball Model"
   ]
  },
  {
   "cell_type": "markdown",
   "id": "89f33471-3c55-4f85-b6ca-7d6b2e1ecced",
   "metadata": {},
   "source": [
    "First we need to import our packages"
   ]
  },
  {
   "cell_type": "code",
   "execution_count": 1,
   "id": "cdebf924-ac01-49ad-b110-a42ce368984c",
   "metadata": {},
   "outputs": [],
   "source": [
    "import polars as pl\n",
    "import deltalake"
   ]
  },
  {
   "cell_type": "markdown",
   "id": "38cde62b-0232-4394-8a9b-ccb9bf00ddab",
   "metadata": {},
   "source": [
    "Then we save our storage options, which allow us to connect to the MinIO S3 buckets where our data are saved"
   ]
  },
  {
   "cell_type": "code",
   "execution_count": 2,
   "id": "bb54148c-7beb-48ab-a5b0-0cb9b7798f73",
   "metadata": {},
   "outputs": [],
   "source": [
    "storage_options = {\n",
    "    \"AWS_ACCESS_KEY_ID\": \"minio\",\n",
    "    \"AWS_SECRET_ACCESS_KEY\": \"minio123\",\n",
    "    \"AWS_REGION\": \"us-east-1\",\n",
    "    \"AWS_ENDPOINT_URL\": \"http://10.5.0.5:9000\",\n",
    "    \"AWS_ALLOW_HTTP\": \"TRUE\",\n",
    "    \"AWS_S3_ALLOW_UNSAFE_RENAME\": \"TRUE\",\n",
    "}"
   ]
  },
  {
   "cell_type": "markdown",
   "id": "811c194f-3956-4a86-84a4-2be31720216a",
   "metadata": {},
   "source": [
    "This code block allows us to see our currency dimension"
   ]
  },
  {
   "cell_type": "code",
   "execution_count": 3,
   "id": "1b32283a-b247-43db-8b2a-8a3025c399ce",
   "metadata": {},
   "outputs": [
    {
     "name": "stdout",
     "output_type": "stream",
     "text": [
      "shape: (178, 3)\n",
      "┌───────────────────────────────────┬───────────────┬───────────────────────────────────┐\n",
      "│ dim_currency_id                   ┆ currency_code ┆ currency_name                     │\n",
      "│ ---                               ┆ ---           ┆ ---                               │\n",
      "│ str                               ┆ str           ┆ str                               │\n",
      "╞═══════════════════════════════════╪═══════════════╪═══════════════════════════════════╡\n",
      "│ cb3f8a65058da0b7c8524a4fb6c27f84… ┆ AED           ┆ UAE Dirham                        │\n",
      "│ ef9094d7c60f06a7598d329d7cd00e6d… ┆ AFN           ┆ Afghani                           │\n",
      "│ b5c7aed7cd2a308523e7d2847b781590… ┆ ALL           ┆ Lek                               │\n",
      "│ 0fd3e4e71b62f7775696d50033366d82… ┆ AMD           ┆ Armenian Dram                     │\n",
      "│ 428ac89ea662a034e7896f56358051dd… ┆ ANG           ┆ Netherlands Antillean Guilder     │\n",
      "│ …                                 ┆ …             ┆ …                                 │\n",
      "│ 9b38b8f5877f2395b4361c1f68c05907… ┆ XXX           ┆ The codes assigned for transacti… │\n",
      "│ 81caf3bd0cad98f2a36cdbefce9860f9… ┆ YER           ┆ Yemeni Rial                       │\n",
      "│ 91d1610afff50742a26438a8a00573e7… ┆ ZAR           ┆ Rand                              │\n",
      "│ 7e5afac119b0dc75c37c3e1ed0aef62e… ┆ ZMW           ┆ Zambian Kwacha                    │\n",
      "│ ebe4e5611b5461e9bed2b59d3b527629… ┆ ZWL           ┆ Zimbabwe Dollar                   │\n",
      "└───────────────────────────────────┴───────────────┴───────────────────────────────────┘\n"
     ]
    }
   ],
   "source": [
    "# Set the location of the dim_currency table\n",
    "dim_currency_uri = f\"s3://gold/dim_currency\"\n",
    "\n",
    "# Read the contents of the dim_currency table into a DataFrame, passing in the storage options so we can connect to MinIO\n",
    "dim_currency = pl.read_delta(\n",
    "        dim_currency_uri,\n",
    "        storage_options = storage_options\n",
    "     )\n",
    "\n",
    "# Print the DataFrame\n",
    "print(dim_currency)"
   ]
  },
  {
   "cell_type": "markdown",
   "id": "351ec387-4db8-4065-8f39-66617d8f8a92",
   "metadata": {},
   "source": [
    "Similarily, we can connect to the fact table containing our rates"
   ]
  },
  {
   "cell_type": "code",
   "execution_count": 4,
   "id": "eb7f727a-6ced-4381-a66a-ee437c230809",
   "metadata": {},
   "outputs": [
    {
     "name": "stdout",
     "output_type": "stream",
     "text": [
      "shape: (7_608, 5)\n",
      "┌────────────┬─────────────────────────────┬─────────────────────────────┬──────────────┬──────────┐\n",
      "│ date       ┆ dim_currency_id_from        ┆ dim_currency_id_to          ┆ opening_rate ┆ movement │\n",
      "│ ---        ┆ ---                         ┆ ---                         ┆ ---          ┆ ---      │\n",
      "│ str        ┆ str                         ┆ str                         ┆ f32          ┆ f32      │\n",
      "╞════════════╪═════════════════════════════╪═════════════════════════════╪══════════════╪══════════╡\n",
      "│ 2014-02-16 ┆ 5e75885111cddfc6af2fde23355 ┆ a26cdf3a6e709124385d4d7eb9b ┆ 0.90596      ┆ 0.0      │\n",
      "│            ┆ 681fa…                      ┆ ff6b8…                      ┆              ┆          │\n",
      "│ 2014-02-17 ┆ 5e75885111cddfc6af2fde23355 ┆ a26cdf3a6e709124385d4d7eb9b ┆ 0.9039       ┆ 0.00005  │\n",
      "│            ┆ 681fa…                      ┆ ff6b8…                      ┆              ┆          │\n",
      "│ 2014-02-18 ┆ 5e75885111cddfc6af2fde23355 ┆ a26cdf3a6e709124385d4d7eb9b ┆ 0.90163      ┆ 0.00041  │\n",
      "│            ┆ 681fa…                      ┆ ff6b8…                      ┆              ┆          │\n",
      "│ 2014-02-19 ┆ 5e75885111cddfc6af2fde23355 ┆ a26cdf3a6e709124385d4d7eb9b ┆ 0.89936      ┆ 0.00057  │\n",
      "│            ┆ 681fa…                      ┆ ff6b8…                      ┆              ┆          │\n",
      "│ 2014-02-20 ┆ 5e75885111cddfc6af2fde23355 ┆ a26cdf3a6e709124385d4d7eb9b ┆ 0.90112      ┆ -0.00014 │\n",
      "│            ┆ 681fa…                      ┆ ff6b8…                      ┆              ┆          │\n",
      "│ …          ┆ …                           ┆ …                           ┆ …            ┆ …        │\n",
      "│ 2024-02-12 ┆ 5e75885111cddfc6af2fde23355 ┆ b2c48022f83bafa76feb835a870 ┆ 0.87709      ┆ 0.0011   │\n",
      "│            ┆ 681fa…                      ┆ 49b42…                      ┆              ┆          │\n",
      "│ 2024-02-13 ┆ 5e75885111cddfc6af2fde23355 ┆ b2c48022f83bafa76feb835a870 ┆ 0.8783       ┆ -0.00318 │\n",
      "│            ┆ 681fa…                      ┆ 49b42…                      ┆              ┆          │\n",
      "│ 2024-02-14 ┆ 5e75885111cddfc6af2fde23355 ┆ b2c48022f83bafa76feb835a870 ┆ 0.87534      ┆ 0.00351  │\n",
      "│            ┆ 681fa…                      ┆ 49b42…                      ┆              ┆          │\n",
      "│ 2024-02-15 ┆ 5e75885111cddfc6af2fde23355 ┆ b2c48022f83bafa76feb835a870 ┆ 0.87821      ┆ 0.0001   │\n",
      "│            ┆ 681fa…                      ┆ 49b42…                      ┆              ┆          │\n",
      "│ 2024-02-16 ┆ 5e75885111cddfc6af2fde23355 ┆ b2c48022f83bafa76feb835a870 ┆ 0.87854      ┆ 0.00233  │\n",
      "│            ┆ 681fa…                      ┆ 49b42…                      ┆              ┆          │\n",
      "└────────────┴─────────────────────────────┴─────────────────────────────┴──────────────┴──────────┘\n"
     ]
    }
   ],
   "source": [
    "fct_rates_uri = f\"s3://gold/fct_rates\"\n",
    "\n",
    "fct_rates = pl.read_delta(\n",
    "        fct_rates_uri,\n",
    "        storage_options = storage_options\n",
    "     )\n",
    "\n",
    "print(fct_rates)"
   ]
  },
  {
   "cell_type": "code",
   "execution_count": 54,
   "id": "5b26c859-1c9a-4dce-8344-203bf97c370c",
   "metadata": {},
   "outputs": [],
   "source": [
    "from datetime import date\n",
    "\n",
    "dim_date = pl.date_range(date(2022, 1, 1), date.today(), \"1d\", eager=True).alias(\"date\").to_frame()"
   ]
  },
  {
   "cell_type": "code",
   "execution_count": 55,
   "id": "ef2e12e5-e6f7-4195-8a6a-a6ed15dd86d4",
   "metadata": {},
   "outputs": [
    {
     "name": "stdout",
     "output_type": "stream",
     "text": [
      "shape: (778, 1)\n",
      "┌────────────┐\n",
      "│ date       │\n",
      "│ ---        │\n",
      "│ date       │\n",
      "╞════════════╡\n",
      "│ 2022-01-01 │\n",
      "│ 2022-01-02 │\n",
      "│ 2022-01-03 │\n",
      "│ 2022-01-04 │\n",
      "│ 2022-01-05 │\n",
      "│ …          │\n",
      "│ 2024-02-13 │\n",
      "│ 2024-02-14 │\n",
      "│ 2024-02-15 │\n",
      "│ 2024-02-16 │\n",
      "│ 2024-02-17 │\n",
      "└────────────┘\n"
     ]
    }
   ],
   "source": [
    "print(dim_date)"
   ]
  },
  {
   "cell_type": "code",
   "execution_count": 48,
   "id": "e569df45-0ac0-48c5-8383-e395dab80db9",
   "metadata": {},
   "outputs": [],
   "source": [
    "dim_date = dim_date.with_columns([\n",
    "    pl.col(\"date\"),\n",
    "    pl.col(\"date\").dt.year().alias(\"year\"),\n",
    "    pl.col(\"date\").dt.month().alias(\"month_number\"),\n",
    "    pl.col(\"date\").dt.strftime(\"%B\").alias(\"month_name\"),\n",
    "    pl.col(\"date\").dt.day().alias(\"day_of_month\"),\n",
    "    pl.col(\"date\").dt.strftime(\"%j\").alias(\"day_of_year\"),\n",
    "    pl.col(\"date\").dt.weekday().alias(\"weekday_number\"),\n",
    "    pl.col(\"date\").dt.strftime(\"%A\").alias(\"weekday_name\"),\n",
    "    pl.col(\"date\").dt.strftime(\"%W\").alias(\"week_number\"),\n",
    "]\n",
    ")"
   ]
  },
  {
   "cell_type": "code",
   "execution_count": 50,
   "id": "94aadb6e-58a8-4a54-b4df-2e57b7557a74",
   "metadata": {},
   "outputs": [
    {
     "name": "stdout",
     "output_type": "stream",
     "text": [
      "shape: (60, 9)\n",
      "┌────────────┬──────┬────────────┬────────────┬───┬────────────┬───────────┬───────────┬───────────┐\n",
      "│ date       ┆ year ┆ month_numb ┆ month_name ┆ … ┆ day_of_yea ┆ weekday_n ┆ weekday_n ┆ week_numb │\n",
      "│ ---        ┆ ---  ┆ er         ┆ ---        ┆   ┆ r          ┆ umber     ┆ ame       ┆ er        │\n",
      "│ date       ┆ i32  ┆ ---        ┆ str        ┆   ┆ ---        ┆ ---       ┆ ---       ┆ ---       │\n",
      "│            ┆      ┆ i8         ┆            ┆   ┆ str        ┆ i8        ┆ str       ┆ str       │\n",
      "╞════════════╪══════╪════════════╪════════════╪═══╪════════════╪═══════════╪═══════════╪═══════════╡\n",
      "│ 2022-01-01 ┆ 2022 ┆ 1          ┆ January    ┆ … ┆ 001        ┆ 6         ┆ Saturday  ┆ 00        │\n",
      "│ 2022-01-02 ┆ 2022 ┆ 1          ┆ January    ┆ … ┆ 002        ┆ 7         ┆ Sunday    ┆ 00        │\n",
      "│ 2022-01-03 ┆ 2022 ┆ 1          ┆ January    ┆ … ┆ 003        ┆ 1         ┆ Monday    ┆ 01        │\n",
      "│ 2022-01-04 ┆ 2022 ┆ 1          ┆ January    ┆ … ┆ 004        ┆ 2         ┆ Tuesday   ┆ 01        │\n",
      "│ 2022-01-05 ┆ 2022 ┆ 1          ┆ January    ┆ … ┆ 005        ┆ 3         ┆ Wednesday ┆ 01        │\n",
      "│ …          ┆ …    ┆ …          ┆ …          ┆ … ┆ …          ┆ …         ┆ …         ┆ …         │\n",
      "│ 2022-02-25 ┆ 2022 ┆ 2          ┆ February   ┆ … ┆ 056        ┆ 5         ┆ Friday    ┆ 08        │\n",
      "│ 2022-02-26 ┆ 2022 ┆ 2          ┆ February   ┆ … ┆ 057        ┆ 6         ┆ Saturday  ┆ 08        │\n",
      "│ 2022-02-27 ┆ 2022 ┆ 2          ┆ February   ┆ … ┆ 058        ┆ 7         ┆ Sunday    ┆ 08        │\n",
      "│ 2022-02-28 ┆ 2022 ┆ 2          ┆ February   ┆ … ┆ 059        ┆ 1         ┆ Monday    ┆ 09        │\n",
      "│ 2022-03-01 ┆ 2022 ┆ 3          ┆ March      ┆ … ┆ 060        ┆ 2         ┆ Tuesday   ┆ 09        │\n",
      "└────────────┴──────┴────────────┴────────────┴───┴────────────┴───────────┴───────────┴───────────┘\n"
     ]
    }
   ],
   "source": [
    "print(dim_date)"
   ]
  },
  {
   "cell_type": "code",
   "execution_count": 53,
   "id": "5fe09c8b-81a6-478d-9bac-4a5d17bc7fa1",
   "metadata": {},
   "outputs": [
    {
     "name": "stdout",
     "output_type": "stream",
     "text": [
      "2024-02-17\n"
     ]
    }
   ],
   "source": [
    "print(date.today())"
   ]
  },
  {
   "cell_type": "code",
   "execution_count": null,
   "id": "4e3542b2-3ccc-4507-83b6-930d22b83d51",
   "metadata": {},
   "outputs": [],
   "source": []
  }
 ],
 "metadata": {
  "kernelspec": {
   "display_name": "Python 3 (ipykernel)",
   "language": "python",
   "name": "python3"
  },
  "language_info": {
   "codemirror_mode": {
    "name": "ipython",
    "version": 3
   },
   "file_extension": ".py",
   "mimetype": "text/x-python",
   "name": "python",
   "nbconvert_exporter": "python",
   "pygments_lexer": "ipython3",
   "version": "3.11.7"
  }
 },
 "nbformat": 4,
 "nbformat_minor": 5
}
